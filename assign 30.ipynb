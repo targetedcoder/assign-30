{
 "cells": [
  {
   "cell_type": "code",
   "execution_count": 6,
   "id": "6af07537",
   "metadata": {},
   "outputs": [
    {
     "name": "stdout",
     "output_type": "stream",
     "text": [
      "40\n",
      "D\n"
     ]
    }
   ],
   "source": [
    "n=int(input())\n",
    "if(n>90):\n",
    "    print(\"A\")\n",
    "elif(n>80 and n<=90):\n",
    "    print(\"B\")\n",
    "elif(n>=60 and n<=80):\n",
    "    print(\"C\")\n",
    "elif(n<60):\n",
    "    print(\"D\")"
   ]
  },
  {
   "cell_type": "code",
   "execution_count": 8,
   "id": "4682ac13",
   "metadata": {},
   "outputs": [
    {
     "name": "stdout",
     "output_type": "stream",
     "text": [
      "70000\n",
      "10\n"
     ]
    }
   ],
   "source": [
    "cp=int(input())\n",
    "if(cp>100000):\n",
    "    t=15\n",
    "elif(cp>50000 and cp<=100000):\n",
    "    t=10\n",
    "elif(cp<=50000):\n",
    "    t=5\n",
    "print(t)"
   ]
  },
  {
   "cell_type": "code",
   "execution_count": 11,
   "id": "831e3aa8",
   "metadata": {},
   "outputs": [
    {
     "name": "stdout",
     "output_type": "stream",
     "text": [
      "Jaipur\n",
      "Jal Mahal\n"
     ]
    }
   ],
   "source": [
    "city=input()\n",
    "if(city==\"Delhi\"):\n",
    "    m=\"Red Fort\"\n",
    "elif(city==\"Agra\"):\n",
    "    m=\"Taj Mahal\"\n",
    "elif(city==\"Jaipur\"):\n",
    "    m=\"Jal Mahal\"\n",
    "print(m)"
   ]
  },
  {
   "cell_type": "code",
   "execution_count": 20,
   "id": "64afc56c",
   "metadata": {},
   "outputs": [
    {
     "name": "stdout",
     "output_type": "stream",
     "text": [
      "36\n",
      "1\n"
     ]
    }
   ],
   "source": [
    "num=int(input())\n",
    "c=0\n",
    "while(num!=0):\n",
    "    num=num/3\n",
    "    if(num>=10):\n",
    "        c=c+1\n",
    "print(c)"
   ]
  },
  {
   "cell_type": "code",
   "execution_count": 25,
   "id": "20a098e0",
   "metadata": {},
   "outputs": [
    {
     "name": "stdout",
     "output_type": "stream",
     "text": [
      "\n",
      "\n",
      "* \n",
      "\n",
      "* * \n",
      "\n",
      "* * * \n",
      "\n",
      "* * * * \n",
      "\n",
      "* * * * * \n",
      "\n"
     ]
    }
   ],
   "source": [
    "for i in range(0,6):\n",
    "    for j in range(0,i):\n",
    "        print(\"*\",end=\" \")\n",
    "    print(\"\\n\")"
   ]
  },
  {
   "cell_type": "code",
   "execution_count": 34,
   "id": "e55755c8",
   "metadata": {},
   "outputs": [
    {
     "name": "stdout",
     "output_type": "stream",
     "text": [
      "* * * * * * \n",
      "\n",
      "* * * * * \n",
      "\n",
      "* * * * \n",
      "\n",
      "* * * \n",
      "\n",
      "* * \n",
      "\n",
      "* \n",
      "\n"
     ]
    }
   ],
   "source": [
    "for i in range(6,0,-1):\n",
    "    for j in range(0,i):\n",
    "        print(\"*\",end=\" \")\n",
    "    print(\"\\n\")"
   ]
  },
  {
   "cell_type": "code",
   "execution_count": 38,
   "id": "5de98c8b",
   "metadata": {},
   "outputs": [
    {
     "name": "stdout",
     "output_type": "stream",
     "text": [
      "10 9 8 7 6 5 4 3 2 1 "
     ]
    }
   ],
   "source": [
    "nh=10\n",
    "nl=1\n",
    "while(nh>=nl):\n",
    "    print(nh ,end=\" \")\n",
    "    nh=nh-1"
   ]
  },
  {
   "cell_type": "code",
   "execution_count": null,
   "id": "a5b36265",
   "metadata": {},
   "outputs": [],
   "source": []
  }
 ],
 "metadata": {
  "kernelspec": {
   "display_name": "Python 3 (ipykernel)",
   "language": "python",
   "name": "python3"
  },
  "language_info": {
   "codemirror_mode": {
    "name": "ipython",
    "version": 3
   },
   "file_extension": ".py",
   "mimetype": "text/x-python",
   "name": "python",
   "nbconvert_exporter": "python",
   "pygments_lexer": "ipython3",
   "version": "3.9.13"
  }
 },
 "nbformat": 4,
 "nbformat_minor": 5
}
